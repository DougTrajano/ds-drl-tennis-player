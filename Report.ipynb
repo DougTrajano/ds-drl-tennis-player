{
 "cells": [
  {
   "cell_type": "markdown",
   "metadata": {},
   "source": [
    "# Learning Algorithm\n",
    "\n",
    "The algorithm that I choosed to use on this environment is DDPG (Deep Deterministic Policy Gradient), you can see more about this algorithm [here](http://www.cs.sjsu.edu/faculty/pollett/masters/Semesters/Spring18/ujjawal/DDPG-Algorithm.pdf)\n",
    "\n",
    "See below the architecture of this algorithm\n",
    "\n",
    "![](images/DDPG_architecture.png)\n",
    "\n",
    "DDPG is an **Advantage Actor Critic Method** that combines Policy-based and Value-based in the same agent. See below a simplest explanation about how it's works.\n",
    "\n",
    "![](images/actor-critic_explanation.png)"
   ]
  },
  {
   "cell_type": "markdown",
   "metadata": {},
   "source": [
    "## Hyperparameters\n",
    "\n",
    "Hyperparameters were chosen based on training experiments seeking a score greater than 5 in the least episodes possible.\n",
    "\n",
    "At the end, our hyperparameters are:\n",
    "\n",
    "```\n",
    "{\n",
    "    \"action_range\": [-1, 1],\n",
    "    \"action_size\": 2,\n",
    "    \"actor_units\": [256, 128],\n",
    "    \"batch_size\": 32,\n",
    "    \"critic_units\": [256, 128],\n",
    "    \"gamma\": 0.99,\n",
    "    \"lr_actor\": 0.0001,\n",
    "    \"lr_critic\": 0.0001,\n",
    "    \"memory_size\": 1000000,\n",
    "    \"random_seed\": 399,\n",
    "    \"state_size\": 24,\n",
    "    \"tau\": 0.001,\n",
    "    \"weight_decay\": 0.0\n",
    "}\n",
    "```"
   ]
  },
  {
   "cell_type": "markdown",
   "metadata": {},
   "source": [
    "## Neural Networks architectures\n",
    "\n",
    "We have two Neural Networks for this agent, Actor and Critic. See below the architecture of each of these neural networks.\n",
    "\n",
    "### Actor Neural Network\n",
    "\n",
    "```\n",
    "Actor(\n",
    "  (fc1): Linear(in_features=24, out_features=256, bias=True)\n",
    "  (fc2): Linear(in_features=256, out_features=128, bias=True)\n",
    "  (fc3): Linear(in_features=128, out_features=2, bias=True)\n",
    ")\n",
    "```\n",
    "\n",
    "### Critic Neural Network\n",
    "\n",
    "```\n",
    "Critic(\n",
    "  (fc1): Linear(in_features=24, out_features=256, bias=True)\n",
    "  (fc2): Linear(in_features=258, out_features=128, bias=True)\n",
    "  (fc3): Linear(in_features=128, out_features=1, bias=True)\n",
    ")\n",
    "```"
   ]
  },
  {
   "cell_type": "markdown",
   "metadata": {},
   "source": [
    "# Plot of Rewards\n",
    "\n",
    "See below the score graph and how much episodes was needed to solve the environment.\n",
    "\n",
    "![](images/agents_score.png)\n",
    "\n",
    "![](images/agents_score2.png)\n",
    "\n",
    "The complete training history is available on [Tennis.ipynb](Tennis.ipynb)"
   ]
  },
  {
   "cell_type": "markdown",
   "metadata": {},
   "source": [
    "# Agents playing tennis\n",
    "\n",
    "![](images/agents_playing.gif)"
   ]
  },
  {
   "cell_type": "markdown",
   "metadata": {},
   "source": [
    "# Ideas for future work\n",
    "\n",
    "I have some ideas for future work to improve the agent's performance.\n",
    "\n",
    "- New combinations of hyperparameters.\n",
    "- Implement [Prioritized Experience Replay](https://arxiv.org/pdf/1511.05952.pdf)\n",
    "- Change the Exploration Policy to Gaussian Noise"
   ]
  }
 ],
 "metadata": {
  "kernelspec": {
   "display_name": "Python 3",
   "language": "python",
   "name": "python3"
  },
  "language_info": {
   "codemirror_mode": {
    "name": "ipython",
    "version": 3
   },
   "file_extension": ".py",
   "mimetype": "text/x-python",
   "name": "python",
   "nbconvert_exporter": "python",
   "pygments_lexer": "ipython3",
   "version": "3.6.10"
  }
 },
 "nbformat": 4,
 "nbformat_minor": 4
}
